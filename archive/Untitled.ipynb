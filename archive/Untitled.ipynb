{
 "cells": [
  {
   "cell_type": "code",
   "execution_count": 16,
   "id": "499b91ae-e281-45e8-864d-b672b37e0bf6",
   "metadata": {},
   "outputs": [
    {
     "name": "stdout",
     "output_type": "stream",
     "text": [
      "Prediction: [0]\n"
     ]
    }
   ],
   "source": [
    "import pandas as pd\n",
    "\n",
    "pf = pd.read_csv(r\"C:\\Users\\moham\\Downloads\\archive\\IMDB_Dataset.csv\")\n",
    "\n",
    "import string\n",
    "from bs4 import BeautifulSoup\n",
    "from sklearn.feature_extraction.text import TfidfVectorizer\n",
    "from sklearn.model_selection import train_test_split\n",
    "from sklearn.linear_model import LogisticRegression\n",
    "from sklearn.metrics import accuracy_score, classification_report\n",
    "\n",
    "def clean_text(text):\n",
    "    text = BeautifulSoup(text, \"html.parser\").get_text()  # remove HTML\n",
    "    text = text.lower()                                   # lowercase\n",
    "    text = text.translate(str.maketrans('', '', string.punctuation))  # remove punctuation\n",
    "    return text\n",
    "\n",
    "pf['review'] = pf['review'].apply(clean_text)\n",
    "\n",
    "\n",
    "vectorizor = TfidfVectorizer(ngram_range=(1,2),max_features=5000)\n",
    "x = vectorizor.fit_transform(pf['review'])\n",
    "\n",
    "y = pf['sentiment'].map({'positive':1,'negative':0})\n",
    "\n",
    "\n",
    "X_train, X_test, y_train, y_test = train_test_split(\n",
    "    x, y, test_size=0.4, random_state=42\n",
    ")\n",
    "\n",
    "model = LogisticRegression(max_iter=1000)\n",
    "model.fit(X_train, y_train)\n",
    "\n",
    "y_pred = model.predict(X_test)\n",
    "\n",
    "# print(\"Accuracy:\", accuracy_score(y_test, y_pred))\n",
    "# print(classification_report(y_test, y_pred))\n",
    "\n",
    "sample_review = \"This movie is not bad at all it got me crying for 2 hours.\"\n",
    "sample_review_clean = clean_text(sample_review)\n",
    "sample_vector = vectorizor.transform([sample_review_clean])\n",
    "print(\"Prediction:\", model.predict(sample_vector))\n",
    "\n"
   ]
  },
  {
   "cell_type": "code",
   "execution_count": null,
   "id": "aeb2371c-11c2-495d-a9e9-cadefd3fc415",
   "metadata": {},
   "outputs": [],
   "source": []
  }
 ],
 "metadata": {
  "kernelspec": {
   "display_name": "Python 3 (ipykernel)",
   "language": "python",
   "name": "python3"
  },
  "language_info": {
   "codemirror_mode": {
    "name": "ipython",
    "version": 3
   },
   "file_extension": ".py",
   "mimetype": "text/x-python",
   "name": "python",
   "nbconvert_exporter": "python",
   "pygments_lexer": "ipython3",
   "version": "3.13.6"
  }
 },
 "nbformat": 4,
 "nbformat_minor": 5
}
